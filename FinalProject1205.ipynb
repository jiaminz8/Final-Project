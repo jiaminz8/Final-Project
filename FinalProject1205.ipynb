{
 "cells": [
  {
   "cell_type": "markdown",
   "metadata": {},
   "source": [
    "                                                   Final Project\n"
   ]
  },
  {
   "cell_type": "markdown",
   "metadata": {},
   "source": [
    "Group 4 Project \n",
    "Jiaming Zhu(71345111); \n",
    "Jingwen Ni(63745156); \n",
    "Sara Shen(61832733);\n",
    "\n",
    "Project Overview:\n",
    "The topic of this research paper is to argue the reason that housing is so unaffordable in  New York. Many factors may influence the housing price in New York, but in this research, we only consider the two major factors, which are the household income and the population density. Thereby, the dependent variable is the Housing Price in New York and the two independent variables are Household Incomes and Population density in New York. \n",
    "Due to the global pandemic, housing supplies nationwide were being influenced a lot. The pandemic-induced drop only exacerbated that. There are a lot of people who live in New York, and, as we are known, the housing supply in New York City is low, thereby the market tends to favor homesellers over homebuyers. New Yorkers have relatively fewer choices when supply is low, especially during this pandemic. This situation reveals that more people are looking for fewer houses, which drives prices higher. Based on the data from New York City Real Estate Market Overview 2020, “The median list price of homes in New York, NY was $799K in August 2020… The median listing price per square foot was $562. The median sale price was $665K. On average, homes in New York, NY sell after 182 days on the market.” The price in New York is sufficiently higher than other countries. Therefore, in this project, we want to discuss the relationship between housing price, average income, and population density. High housing prices may result in outflowing of talent. Also people who work and study in NewYork have to live in other cities like NJ or Long Island which will cost them a lot of time in commuting every day. What’s more, people will be evicted if they lose their job suddenly which will cause heavy mental pressure. People would be unsatisfied and thus decrease social stability. \n",
    "\n",
    "Project structure:\n",
    "The project will provide a data report first. This data report contains data sources and data access. The second part provides summary statistics about median household income, population density and housing price trends. We will plot this relation and visualize it in this project. The third part contains our hypothesis and a comparison between housing price-population density relations and housing price-household income relation. The final part of our project will consist of a linear regression and a discussion of project results: whether this result is consistent with our hypothesis or not.\n",
    "\n",
    "Data Report:\n",
    "\tThe data of this project comes from various sources. The data source of independent variable Median Household Income in New York from 1990 to 2019 is from the US census Bureau. This can be accessed at https://www.statista.com/. This data is updated annually. The data source of independent variable population density in New York from 1960 to 2018 can be accessed from https://www.statista.com/. This data is updated annually. The data source of dependent variable New York city’s housing price is available at https://fred.stlouisfed.org. This data is updated annually.\n",
    "\n",
    "\n",
    "Key Variables:\n",
    "The first independent data behind this project is the Median Household Income in New York from 1990 to 2019, and it is from the US census Bureau. This research topic is to talk about why housing is unaffordable in the metropolis area, and we use New York as an example, thereby we focus on the data of New York. The Median Household Income in New York gives us specific information about the income for people living in New York. The regional data provides access to measures of economic activity in New York and a long time series from 1990 to 2019. This data was measured annually. In order to calculate the household income, we need to add each person’s income that lives in the home who is 15 years old or older, regardless of whether they are relatives or not. Plus, the household income is calculated before taxation. Therefore, we speculate that median household income may have a positive relation with our dependent variable, the New York housing price.\n",
    "The second independent variable is the population density in New York from 1960 to 2018, and it is from the US census Bureau. The population density in New York can show us how crowded New York is, and we can speculate that New York has a large population base. Thereby, it is reasonable to assume that the housing market has a large amount of buyers and demand in New York. Population Density measures how many people live in a certain area. Population density is calculated by dividing the number of people by the area, in our data, the unit is the number of people per square kilometre. \n",
    "Thirdly, the dependent variable I have is New York city’s housing price. The data I found from Fred is the Condo Price Index in New York City from 1996 to 2020 (https://fred.stlouisfed.org/series/NYXRCSA) which is representative of New York housing prices because most people in New York are living in condos. By comparing the Median Household Income in New York, we can figure out the reason why most people feel housing in New York City is too expensive to afford. Also from the second independent variable: The Population Density, we can know why New York Housing price is higher than other small cities. It is not hard to understand because the population density in metropolis especially in New York City is much higher than others. When the demand for housing is increasing, the price will go up. Hence the dependent variable: “Housing Price” has a positive relation with both Median Household Income and Population Density.\n",
    "\n",
    "\n",
    "\n",
    "\n",
    "\n"
   ]
  },
  {
   "cell_type": "code",
   "execution_count": null,
   "metadata": {},
   "outputs": [],
   "source": []
  },
  {
   "cell_type": "code",
   "execution_count": 1,
   "metadata": {},
   "outputs": [],
   "source": [
    "#Initialization\n",
    "import numpy as np\n",
    "import matplotlib.pyplot as plt\n",
    "%matplotlib inline\n",
    "import pandas as pd"
   ]
  },
  {
   "cell_type": "code",
   "execution_count": 2,
   "metadata": {
    "scrolled": true
   },
   "outputs": [
    {
     "name": "stdout",
     "output_type": "stream",
     "text": [
      "Collecting statsmodels\n",
      "  Downloading statsmodels-0.12.1-cp36-cp36m-manylinux1_x86_64.whl (9.5 MB)\n",
      "\u001b[K     |████████████████████████████████| 9.5 MB 4.3 MB/s eta 0:00:01     |████████▋                       | 2.5 MB 4.3 MB/s eta 0:00:02     |███████████████▍                | 4.6 MB 4.3 MB/s eta 0:00:02\n",
      "\u001b[?25hRequirement already satisfied: pandas>=0.21 in /srv/conda/envs/notebook/lib/python3.6/site-packages (from statsmodels) (1.1.4)\n",
      "Requirement already satisfied: numpy>=1.15 in /srv/conda/envs/notebook/lib/python3.6/site-packages (from statsmodels) (1.19.4)\n",
      "Collecting patsy>=0.5\n",
      "  Downloading patsy-0.5.1-py2.py3-none-any.whl (231 kB)\n",
      "\u001b[K     |████████████████████████████████| 231 kB 26.9 MB/s eta 0:00:01\n",
      "\u001b[?25hRequirement already satisfied: scipy>=1.1 in /srv/conda/envs/notebook/lib/python3.6/site-packages (from statsmodels) (1.5.3)\n",
      "Requirement already satisfied: python-dateutil>=2.7.3 in /srv/conda/envs/notebook/lib/python3.6/site-packages (from pandas>=0.21->statsmodels) (2.8.1)\n",
      "Requirement already satisfied: pytz>=2017.2 in /srv/conda/envs/notebook/lib/python3.6/site-packages (from pandas>=0.21->statsmodels) (2020.4)\n",
      "Requirement already satisfied: six in /srv/conda/envs/notebook/lib/python3.6/site-packages (from patsy>=0.5->statsmodels) (1.15.0)\n",
      "Installing collected packages: patsy, statsmodels\n",
      "Successfully installed patsy-0.5.1 statsmodels-0.12.1\n",
      "Note: you may need to restart the kernel to use updated packages.\n"
     ]
    }
   ],
   "source": [
    "pip install statsmodels"
   ]
  },
  {
   "cell_type": "code",
   "execution_count": 3,
   "metadata": {},
   "outputs": [],
   "source": [
    "import statsmodels.api as sm\n",
    "from statsmodels.iolib.summary2 import summary_col"
   ]
  },
  {
   "cell_type": "code",
   "execution_count": 4,
   "metadata": {},
   "outputs": [
    {
     "name": "stdout",
     "output_type": "stream",
     "text": [
      "Collecting xlrd\n",
      "  Downloading xlrd-1.2.0-py2.py3-none-any.whl (103 kB)\n",
      "\u001b[K     |████████████████████████████████| 103 kB 4.4 MB/s eta 0:00:01\n",
      "\u001b[?25hInstalling collected packages: xlrd\n",
      "Successfully installed xlrd-1.2.0\n",
      "Note: you may need to restart the kernel to use updated packages.\n"
     ]
    }
   ],
   "source": [
    "pip install xlrd"
   ]
  },
  {
   "cell_type": "code",
   "execution_count": 5,
   "metadata": {},
   "outputs": [
    {
     "data": {
      "text/html": [
       "<div>\n",
       "<style scoped>\n",
       "    .dataframe tbody tr th:only-of-type {\n",
       "        vertical-align: middle;\n",
       "    }\n",
       "\n",
       "    .dataframe tbody tr th {\n",
       "        vertical-align: top;\n",
       "    }\n",
       "\n",
       "    .dataframe thead th {\n",
       "        text-align: right;\n",
       "    }\n",
       "</style>\n",
       "<table border=\"1\" class=\"dataframe\">\n",
       "  <thead>\n",
       "    <tr style=\"text-align: right;\">\n",
       "      <th></th>\n",
       "      <th>observation_date</th>\n",
       "      <th>NYPOP</th>\n",
       "    </tr>\n",
       "  </thead>\n",
       "  <tbody>\n",
       "    <tr>\n",
       "      <th>0</th>\n",
       "      <td>1984-01-01</td>\n",
       "      <td>17745.684</td>\n",
       "    </tr>\n",
       "    <tr>\n",
       "      <th>1</th>\n",
       "      <td>1985-01-01</td>\n",
       "      <td>17791.672</td>\n",
       "    </tr>\n",
       "    <tr>\n",
       "      <th>2</th>\n",
       "      <td>1986-01-01</td>\n",
       "      <td>17833.419</td>\n",
       "    </tr>\n",
       "    <tr>\n",
       "      <th>3</th>\n",
       "      <td>1987-01-01</td>\n",
       "      <td>17868.848</td>\n",
       "    </tr>\n",
       "    <tr>\n",
       "      <th>4</th>\n",
       "      <td>1988-01-01</td>\n",
       "      <td>17941.309</td>\n",
       "    </tr>\n",
       "  </tbody>\n",
       "</table>\n",
       "</div>"
      ],
      "text/plain": [
       "  observation_date      NYPOP\n",
       "0       1984-01-01  17745.684\n",
       "1       1985-01-01  17791.672\n",
       "2       1986-01-01  17833.419\n",
       "3       1987-01-01  17868.848\n",
       "4       1988-01-01  17941.309"
      ]
     },
     "execution_count": 5,
     "metadata": {},
     "output_type": "execute_result"
    }
   ],
   "source": [
    "#Access Data\n",
    "#### NYpopulation as NYPOP\n",
    "NYpopulation=pd.read_excel('NYPOP.xls')\n",
    "NYpopulation.head()"
   ]
  },
  {
   "cell_type": "code",
   "execution_count": 6,
   "metadata": {},
   "outputs": [
    {
     "data": {
      "text/html": [
       "<div>\n",
       "<style scoped>\n",
       "    .dataframe tbody tr th:only-of-type {\n",
       "        vertical-align: middle;\n",
       "    }\n",
       "\n",
       "    .dataframe tbody tr th {\n",
       "        vertical-align: top;\n",
       "    }\n",
       "\n",
       "    .dataframe thead th {\n",
       "        text-align: right;\n",
       "    }\n",
       "</style>\n",
       "<table border=\"1\" class=\"dataframe\">\n",
       "  <thead>\n",
       "    <tr style=\"text-align: right;\">\n",
       "      <th></th>\n",
       "      <th>NYPOP</th>\n",
       "    </tr>\n",
       "  </thead>\n",
       "  <tbody>\n",
       "    <tr>\n",
       "      <th>count</th>\n",
       "      <td>37.000000</td>\n",
       "    </tr>\n",
       "    <tr>\n",
       "      <th>mean</th>\n",
       "      <td>18763.291973</td>\n",
       "    </tr>\n",
       "    <tr>\n",
       "      <th>std</th>\n",
       "      <td>688.192922</td>\n",
       "    </tr>\n",
       "    <tr>\n",
       "      <th>min</th>\n",
       "      <td>17745.684000</td>\n",
       "    </tr>\n",
       "    <tr>\n",
       "      <th>25%</th>\n",
       "      <td>18140.894000</td>\n",
       "    </tr>\n",
       "    <tr>\n",
       "      <th>50%</th>\n",
       "      <td>19082.838000</td>\n",
       "    </tr>\n",
       "    <tr>\n",
       "      <th>75%</th>\n",
       "      <td>19399.878000</td>\n",
       "    </tr>\n",
       "    <tr>\n",
       "      <th>max</th>\n",
       "      <td>19654.666000</td>\n",
       "    </tr>\n",
       "  </tbody>\n",
       "</table>\n",
       "</div>"
      ],
      "text/plain": [
       "              NYPOP\n",
       "count     37.000000\n",
       "mean   18763.291973\n",
       "std      688.192922\n",
       "min    17745.684000\n",
       "25%    18140.894000\n",
       "50%    19082.838000\n",
       "75%    19399.878000\n",
       "max    19654.666000"
      ]
     },
     "execution_count": 6,
     "metadata": {},
     "output_type": "execute_result"
    }
   ],
   "source": [
    "#Summary Statistics for New York Population \n",
    "NYpopulation.describe()"
   ]
  },
  {
   "cell_type": "code",
   "execution_count": 7,
   "metadata": {},
   "outputs": [
    {
     "data": {
      "image/png": "[encoded data removed]",
      "text/plain": [
       "<Figure size 864x432 with 1 Axes>"
      ]
     },
     "metadata": {
      "needs_background": "light"
     },
     "output_type": "display_data"
    }
   ],
   "source": [
    "#Graphing the New York population amount\n",
    "graph_NYpopulation=NYpopulation.set_index('observation_date')\n",
    "ax=graph_NYpopulation['1984':'2020'].plot(title='New York Population',legend=False,figsize=(12,6))\n",
    "ax.set_xlabel('year',fontsize=12)\n",
    "ax.set_ylabel('total amount',fontsize=12)\n",
    "plt.show()"
   ]
  },
  {
   "cell_type": "code",
   "execution_count": 8,
   "metadata": {},
   "outputs": [
    {
     "data": {
      "text/html": [
       "<div>\n",
       "<style scoped>\n",
       "    .dataframe tbody tr th:only-of-type {\n",
       "        vertical-align: middle;\n",
       "    }\n",
       "\n",
       "    .dataframe tbody tr th {\n",
       "        vertical-align: top;\n",
       "    }\n",
       "\n",
       "    .dataframe thead th {\n",
       "        text-align: right;\n",
       "    }\n",
       "</style>\n",
       "<table border=\"1\" class=\"dataframe\">\n",
       "  <thead>\n",
       "    <tr style=\"text-align: right;\">\n",
       "      <th></th>\n",
       "      <th>observation_date</th>\n",
       "      <th>NYSTHPI</th>\n",
       "    </tr>\n",
       "  </thead>\n",
       "  <tbody>\n",
       "    <tr>\n",
       "      <th>0</th>\n",
       "      <td>1984-01-01</td>\n",
       "      <td>150.76</td>\n",
       "    </tr>\n",
       "    <tr>\n",
       "      <th>1</th>\n",
       "      <td>1985-01-01</td>\n",
       "      <td>176.36</td>\n",
       "    </tr>\n",
       "    <tr>\n",
       "      <th>2</th>\n",
       "      <td>1986-01-01</td>\n",
       "      <td>206.86</td>\n",
       "    </tr>\n",
       "    <tr>\n",
       "      <th>3</th>\n",
       "      <td>1987-01-01</td>\n",
       "      <td>246.67</td>\n",
       "    </tr>\n",
       "    <tr>\n",
       "      <th>4</th>\n",
       "      <td>1988-01-01</td>\n",
       "      <td>277.24</td>\n",
       "    </tr>\n",
       "  </tbody>\n",
       "</table>\n",
       "</div>"
      ],
      "text/plain": [
       "  observation_date  NYSTHPI\n",
       "0       1984-01-01   150.76\n",
       "1       1985-01-01   176.36\n",
       "2       1986-01-01   206.86\n",
       "3       1987-01-01   246.67\n",
       "4       1988-01-01   277.24"
      ]
     },
     "execution_count": 8,
     "metadata": {},
     "output_type": "execute_result"
    }
   ],
   "source": [
    "#### NY Housing Price Index as NYSTHPI\n",
    "NYhousingPrice=pd.read_excel('NYSTHPI.xls')\n",
    "NYhousingPrice.head()"
   ]
  },
  {
   "cell_type": "code",
   "execution_count": 9,
   "metadata": {},
   "outputs": [
    {
     "data": {
      "text/html": [
       "<div>\n",
       "<style scoped>\n",
       "    .dataframe tbody tr th:only-of-type {\n",
       "        vertical-align: middle;\n",
       "    }\n",
       "\n",
       "    .dataframe tbody tr th {\n",
       "        vertical-align: top;\n",
       "    }\n",
       "\n",
       "    .dataframe thead th {\n",
       "        text-align: right;\n",
       "    }\n",
       "</style>\n",
       "<table border=\"1\" class=\"dataframe\">\n",
       "  <thead>\n",
       "    <tr style=\"text-align: right;\">\n",
       "      <th></th>\n",
       "      <th>NYSTHPI</th>\n",
       "    </tr>\n",
       "  </thead>\n",
       "  <tbody>\n",
       "    <tr>\n",
       "      <th>count</th>\n",
       "      <td>38.000000</td>\n",
       "    </tr>\n",
       "    <tr>\n",
       "      <th>mean</th>\n",
       "      <td>442.617632</td>\n",
       "    </tr>\n",
       "    <tr>\n",
       "      <th>std</th>\n",
       "      <td>176.789018</td>\n",
       "    </tr>\n",
       "    <tr>\n",
       "      <th>min</th>\n",
       "      <td>150.760000</td>\n",
       "    </tr>\n",
       "    <tr>\n",
       "      <th>25%</th>\n",
       "      <td>284.340000</td>\n",
       "    </tr>\n",
       "    <tr>\n",
       "      <th>50%</th>\n",
       "      <td>426.910000</td>\n",
       "    </tr>\n",
       "    <tr>\n",
       "      <th>75%</th>\n",
       "      <td>596.062500</td>\n",
       "    </tr>\n",
       "    <tr>\n",
       "      <th>max</th>\n",
       "      <td>734.890000</td>\n",
       "    </tr>\n",
       "  </tbody>\n",
       "</table>\n",
       "</div>"
      ],
      "text/plain": [
       "          NYSTHPI\n",
       "count   38.000000\n",
       "mean   442.617632\n",
       "std    176.789018\n",
       "min    150.760000\n",
       "25%    284.340000\n",
       "50%    426.910000\n",
       "75%    596.062500\n",
       "max    734.890000"
      ]
     },
     "execution_count": 9,
     "metadata": {},
     "output_type": "execute_result"
    }
   ],
   "source": [
    "#Summarize Statistice for New York Housing Price Index\n",
    "NYhousingPrice.describe()"
   ]
  },
  {
   "cell_type": "code",
   "execution_count": 10,
   "metadata": {},
   "outputs": [
    {
     "data": {
      "image/png": "[encoded data removed]",
      "text/plain": [
       "<Figure size 864x432 with 1 Axes>"
      ]
     },
     "metadata": {
      "needs_background": "light"
     },
     "output_type": "display_data"
    }
   ],
   "source": [
    "#Graphing the New York Housing Price Index\n",
    "graph_NYhousing=NYhousingPrice.set_index('observation_date')\n",
    "ax=graph_NYhousing['1984':'2020'].plot(title='New York Housing Price Index',legend=False,figsize=(12,6))\n",
    "ax.set_xlabel('year',fontsize=12)\n",
    "ax.set_ylabel('Housing Price Index',fontsize=12)\n",
    "plt.show()"
   ]
  },
  {
   "cell_type": "code",
   "execution_count": 11,
   "metadata": {},
   "outputs": [
    {
     "data": {
      "text/html": [
       "<div>\n",
       "<style scoped>\n",
       "    .dataframe tbody tr th:only-of-type {\n",
       "        vertical-align: middle;\n",
       "    }\n",
       "\n",
       "    .dataframe tbody tr th {\n",
       "        vertical-align: top;\n",
       "    }\n",
       "\n",
       "    .dataframe thead th {\n",
       "        text-align: right;\n",
       "    }\n",
       "</style>\n",
       "<table border=\"1\" class=\"dataframe\">\n",
       "  <thead>\n",
       "    <tr style=\"text-align: right;\">\n",
       "      <th></th>\n",
       "      <th>observation_date</th>\n",
       "      <th>Household Income</th>\n",
       "    </tr>\n",
       "  </thead>\n",
       "  <tbody>\n",
       "    <tr>\n",
       "      <th>0</th>\n",
       "      <td>1984-01-01</td>\n",
       "      <td>51768</td>\n",
       "    </tr>\n",
       "    <tr>\n",
       "      <th>1</th>\n",
       "      <td>1985-01-01</td>\n",
       "      <td>53712</td>\n",
       "    </tr>\n",
       "    <tr>\n",
       "      <th>2</th>\n",
       "      <td>1986-01-01</td>\n",
       "      <td>55883</td>\n",
       "    </tr>\n",
       "    <tr>\n",
       "      <th>3</th>\n",
       "      <td>1987-01-01</td>\n",
       "      <td>56959</td>\n",
       "    </tr>\n",
       "    <tr>\n",
       "      <th>4</th>\n",
       "      <td>1988-01-01</td>\n",
       "      <td>60246</td>\n",
       "    </tr>\n",
       "  </tbody>\n",
       "</table>\n",
       "</div>"
      ],
      "text/plain": [
       "  observation_date  Household Income\n",
       "0       1984-01-01             51768\n",
       "1       1985-01-01             53712\n",
       "2       1986-01-01             55883\n",
       "3       1987-01-01             56959\n",
       "4       1988-01-01             60246"
      ]
     },
     "execution_count": 11,
     "metadata": {},
     "output_type": "execute_result"
    }
   ],
   "source": [
    "#### NY median Household Income\n",
    "NYhouseholdIncome=pd.read_excel('HouseholdIncomeNYC.xls')\n",
    "NYhouseholdIncome.head()"
   ]
  },
  {
   "cell_type": "code",
   "execution_count": 12,
   "metadata": {},
   "outputs": [
    {
     "data": {
      "text/html": [
       "<div>\n",
       "<style scoped>\n",
       "    .dataframe tbody tr th:only-of-type {\n",
       "        vertical-align: middle;\n",
       "    }\n",
       "\n",
       "    .dataframe tbody tr th {\n",
       "        vertical-align: top;\n",
       "    }\n",
       "\n",
       "    .dataframe thead th {\n",
       "        text-align: right;\n",
       "    }\n",
       "</style>\n",
       "<table border=\"1\" class=\"dataframe\">\n",
       "  <thead>\n",
       "    <tr style=\"text-align: right;\">\n",
       "      <th></th>\n",
       "      <th>Household Income</th>\n",
       "    </tr>\n",
       "  </thead>\n",
       "  <tbody>\n",
       "    <tr>\n",
       "      <th>count</th>\n",
       "      <td>37.000000</td>\n",
       "    </tr>\n",
       "    <tr>\n",
       "      <th>mean</th>\n",
       "      <td>59512.864865</td>\n",
       "    </tr>\n",
       "    <tr>\n",
       "      <th>std</th>\n",
       "      <td>4185.830093</td>\n",
       "    </tr>\n",
       "    <tr>\n",
       "      <th>min</th>\n",
       "      <td>51768.000000</td>\n",
       "    </tr>\n",
       "    <tr>\n",
       "      <th>25%</th>\n",
       "      <td>56959.000000</td>\n",
       "    </tr>\n",
       "    <tr>\n",
       "      <th>50%</th>\n",
       "      <td>59804.000000</td>\n",
       "    </tr>\n",
       "    <tr>\n",
       "      <th>75%</th>\n",
       "      <td>61295.000000</td>\n",
       "    </tr>\n",
       "    <tr>\n",
       "      <th>max</th>\n",
       "      <td>71855.000000</td>\n",
       "    </tr>\n",
       "  </tbody>\n",
       "</table>\n",
       "</div>"
      ],
      "text/plain": [
       "       Household Income\n",
       "count         37.000000\n",
       "mean       59512.864865\n",
       "std         4185.830093\n",
       "min        51768.000000\n",
       "25%        56959.000000\n",
       "50%        59804.000000\n",
       "75%        61295.000000\n",
       "max        71855.000000"
      ]
     },
     "execution_count": 12,
     "metadata": {},
     "output_type": "execute_result"
    }
   ],
   "source": [
    "#Summarize Statistics for NY median Household income\n",
    "NYhouseholdIncome.describe()"
   ]
  },
  {
   "cell_type": "code",
   "execution_count": 13,
   "metadata": {},
   "outputs": [
    {
     "data": {
      "image/png": "[encoded data removed]",
      "text/plain": [
       "<Figure size 864x432 with 1 Axes>"
      ]
     },
     "metadata": {
      "needs_background": "light"
     },
     "output_type": "display_data"
    }
   ],
   "source": [
    "#Graphing the New York median Household Income\n",
    "graph_NYincome=NYhouseholdIncome.set_index('observation_date')\n",
    "ax=graph_NYincome['1984':'2020'].plot(title='New York median Household Income',legend=False,figsize=(12,6))\n",
    "ax.set_xlabel('year',fontsize=12)\n",
    "ax.set_ylabel('household income',fontsize=12)\n",
    "plt.show()"
   ]
  },
  {
   "cell_type": "code",
   "execution_count": 14,
   "metadata": {},
   "outputs": [
    {
     "data": {
      "text/html": [
       "<div>\n",
       "<style scoped>\n",
       "    .dataframe tbody tr th:only-of-type {\n",
       "        vertical-align: middle;\n",
       "    }\n",
       "\n",
       "    .dataframe tbody tr th {\n",
       "        vertical-align: top;\n",
       "    }\n",
       "\n",
       "    .dataframe thead th {\n",
       "        text-align: right;\n",
       "    }\n",
       "</style>\n",
       "<table border=\"1\" class=\"dataframe\">\n",
       "  <thead>\n",
       "    <tr style=\"text-align: right;\">\n",
       "      <th></th>\n",
       "      <th>observation_date</th>\n",
       "      <th>NYPOP</th>\n",
       "      <th>NYSTHPI</th>\n",
       "    </tr>\n",
       "  </thead>\n",
       "  <tbody>\n",
       "    <tr>\n",
       "      <th>0</th>\n",
       "      <td>1984-01-01</td>\n",
       "      <td>17745.684</td>\n",
       "      <td>150.76</td>\n",
       "    </tr>\n",
       "    <tr>\n",
       "      <th>1</th>\n",
       "      <td>1985-01-01</td>\n",
       "      <td>17791.672</td>\n",
       "      <td>176.36</td>\n",
       "    </tr>\n",
       "    <tr>\n",
       "      <th>2</th>\n",
       "      <td>1986-01-01</td>\n",
       "      <td>17833.419</td>\n",
       "      <td>206.86</td>\n",
       "    </tr>\n",
       "    <tr>\n",
       "      <th>3</th>\n",
       "      <td>1987-01-01</td>\n",
       "      <td>17868.848</td>\n",
       "      <td>246.67</td>\n",
       "    </tr>\n",
       "    <tr>\n",
       "      <th>4</th>\n",
       "      <td>1988-01-01</td>\n",
       "      <td>17941.309</td>\n",
       "      <td>277.24</td>\n",
       "    </tr>\n",
       "  </tbody>\n",
       "</table>\n",
       "</div>"
      ],
      "text/plain": [
       "  observation_date      NYPOP  NYSTHPI\n",
       "0       1984-01-01  17745.684   150.76\n",
       "1       1985-01-01  17791.672   176.36\n",
       "2       1986-01-01  17833.419   206.86\n",
       "3       1987-01-01  17868.848   246.67\n",
       "4       1988-01-01  17941.309   277.24"
      ]
     },
     "execution_count": 14,
     "metadata": {},
     "output_type": "execute_result"
    }
   ],
   "source": [
    "data_merge=pd.merge(NYpopulation,NYhousingPrice)\n",
    "data_merge.head()"
   ]
  },
  {
   "cell_type": "code",
   "execution_count": 15,
   "metadata": {},
   "outputs": [
    {
     "data": {
      "text/html": [
       "<div>\n",
       "<style scoped>\n",
       "    .dataframe tbody tr th:only-of-type {\n",
       "        vertical-align: middle;\n",
       "    }\n",
       "\n",
       "    .dataframe tbody tr th {\n",
       "        vertical-align: top;\n",
       "    }\n",
       "\n",
       "    .dataframe thead th {\n",
       "        text-align: right;\n",
       "    }\n",
       "</style>\n",
       "<table border=\"1\" class=\"dataframe\">\n",
       "  <thead>\n",
       "    <tr style=\"text-align: right;\">\n",
       "      <th></th>\n",
       "      <th>observation_date</th>\n",
       "      <th>NYPOP</th>\n",
       "      <th>NYSTHPI</th>\n",
       "      <th>Household Income</th>\n",
       "    </tr>\n",
       "  </thead>\n",
       "  <tbody>\n",
       "    <tr>\n",
       "      <th>0</th>\n",
       "      <td>1984-01-01</td>\n",
       "      <td>17745.684</td>\n",
       "      <td>150.76</td>\n",
       "      <td>51768</td>\n",
       "    </tr>\n",
       "    <tr>\n",
       "      <th>1</th>\n",
       "      <td>1985-01-01</td>\n",
       "      <td>17791.672</td>\n",
       "      <td>176.36</td>\n",
       "      <td>53712</td>\n",
       "    </tr>\n",
       "    <tr>\n",
       "      <th>2</th>\n",
       "      <td>1986-01-01</td>\n",
       "      <td>17833.419</td>\n",
       "      <td>206.86</td>\n",
       "      <td>55883</td>\n",
       "    </tr>\n",
       "    <tr>\n",
       "      <th>3</th>\n",
       "      <td>1987-01-01</td>\n",
       "      <td>17868.848</td>\n",
       "      <td>246.67</td>\n",
       "      <td>56959</td>\n",
       "    </tr>\n",
       "    <tr>\n",
       "      <th>4</th>\n",
       "      <td>1988-01-01</td>\n",
       "      <td>17941.309</td>\n",
       "      <td>277.24</td>\n",
       "      <td>60246</td>\n",
       "    </tr>\n",
       "  </tbody>\n",
       "</table>\n",
       "</div>"
      ],
      "text/plain": [
       "  observation_date      NYPOP  NYSTHPI  Household Income\n",
       "0       1984-01-01  17745.684   150.76             51768\n",
       "1       1985-01-01  17791.672   176.36             53712\n",
       "2       1986-01-01  17833.419   206.86             55883\n",
       "3       1987-01-01  17868.848   246.67             56959\n",
       "4       1988-01-01  17941.309   277.24             60246"
      ]
     },
     "execution_count": 15,
     "metadata": {},
     "output_type": "execute_result"
    }
   ],
   "source": [
    "data_merge2=pd.merge(data_merge,NYhouseholdIncome)\n",
    "data_merge2.head()"
   ]
  },
  {
   "cell_type": "markdown",
   "metadata": {},
   "source": [
    "regression analysis: part 1\n",
    "The first regression was made between New York population and New York Housing"
   ]
  },
  {
   "cell_type": "code",
   "execution_count": 17,
   "metadata": {},
   "outputs": [],
   "source": [
    "import scipy.stats as stats\n",
    "import matplotlib.pyplot as plt\n",
    "import sklearn\n",
    "from sklearn.datasets import load_boston\n",
    "from sklearn.linear_model import LinearRegression\n",
    "from scipy.stats import linregress"
   ]
  },
  {
   "cell_type": "code",
   "execution_count": 23,
   "metadata": {},
   "outputs": [
    {
     "data": {
      "text/plain": [
       "Text(0, 0.5, 'New York Housing Price Index')"
      ]
     },
     "execution_count": 23,
     "metadata": {},
     "output_type": "execute_result"
    },
    {
     "data": {
      "image/png": "[encoded data removed]",
      "text/plain": [
       "<Figure size 432x288 with 1 Axes>"
      ]
     },
     "metadata": {
      "needs_background": "light"
     },
     "output_type": "display_data"
    }
   ],
   "source": [
    "# Set x to our input New York population\n",
    "x = data_merge['NYPOP']\n",
    "# Set y to our output New York housing price index, this is the value we trying to predict\n",
    "y = data_merge['NYSTHPI']\n",
    "# Plot New York Housing price index against New York population\n",
    "plt.scatter(x, y)\n",
    "# Add labels to the graph\n",
    "plt.xlabel('New York population')\n",
    "plt.ylabel('New York Housing Price Index')"
   ]
  },
  {
   "cell_type": "code",
   "execution_count": 25,
   "metadata": {},
   "outputs": [
    {
     "data": {
      "text/plain": [
       "[<matplotlib.lines.Line2D at 0x7f11734a8fd0>]"
      ]
     },
     "execution_count": 25,
     "metadata": {},
     "output_type": "execute_result"
    },
    {
     "data": {
      "image/png": "[encoded data removed]",
      "text/plain": [
       "<Figure size 432x288 with 1 Axes>"
      ]
     },
     "metadata": {
      "needs_background": "light"
     },
     "output_type": "display_data"
    }
   ],
   "source": [
    "# Setting x and y to the appropriate variables, we reshape x to turn it from a 1D array to a 2D array, ready to be used in our model.\n",
    "x = data_merge['NYPOP'].values.reshape(-1,1)\n",
    "y = data_merge['NYSTHPI']\n",
    "# Define the variable lr_model as our linear regression model\n",
    "lr_model = LinearRegression()\n",
    "# Fit our linear regression model to our data, we are essentially finding θ₀ and θ₁ in our regression line: ŷ = θ₀ + θ₁𝑥. Gradient descent and other methods are used for this.\n",
    "lr1=lr_model.fit(x, y)\n",
    "# Find predicted values for all x values by applying ŷᵢ = θ₀ + θ₁𝑥ᵢ\n",
    "y_pred = lr_model.predict(x)\n",
    "plt.scatter(x, y)\n",
    "plt.xlabel('New York population')\n",
    "plt.ylabel('New York Housing price Index')\n",
    "# Here we are plotting our regression line ŷ = θ₀ + θ₁𝑥\n",
    "plt.plot(x, y_pred)"
   ]
  },
  {
   "cell_type": "code",
   "execution_count": 26,
   "metadata": {},
   "outputs": [
    {
     "data": {
      "text/plain": [
       "0.784118287563968"
      ]
     },
     "execution_count": 26,
     "metadata": {},
     "output_type": "execute_result"
    }
   ],
   "source": [
    "lr1.score(x,y)"
   ]
  },
  {
   "cell_type": "code",
   "execution_count": 27,
   "metadata": {},
   "outputs": [
    {
     "name": "stdout",
     "output_type": "stream",
     "text": [
      "[0.22169354]\n"
     ]
    }
   ],
   "source": [
    "print(lr1.coef_)"
   ]
  },
  {
   "cell_type": "code",
   "execution_count": 28,
   "metadata": {},
   "outputs": [
    {
     "name": "stdout",
     "output_type": "stream",
     "text": [
      "-3724.9823009987585\n"
     ]
    }
   ],
   "source": [
    "print(lr1.intercept_)"
   ]
  },
  {
   "cell_type": "code",
   "execution_count": 34,
   "metadata": {},
   "outputs": [
    {
     "data": {
      "text/plain": [
       "(0.22169354318894863,\n",
       " -3724.9823009987595,\n",
       " 0.019662383304012057,\n",
       " 3.351305895886792e-13)"
      ]
     },
     "execution_count": 34,
     "metadata": {},
     "output_type": "execute_result"
    }
   ],
   "source": [
    "gradient, intercept, r_value, p_value, std_err = linregress(data_merge['NYPOP'], data_merge['NYSTHPI'])\n",
    "gradient, intercept, std_err, p_value"
   ]
  },
  {
   "cell_type": "markdown",
   "metadata": {},
   "source": [
    "Regression part 2: The first regression was made between Median Household Income and New York Housing\n"
   ]
  },
  {
   "cell_type": "code",
   "execution_count": 31,
   "metadata": {},
   "outputs": [
    {
     "data": {
      "text/plain": [
       "Text(0, 0.5, 'New York Housing Price Index')"
      ]
     },
     "execution_count": 31,
     "metadata": {},
     "output_type": "execute_result"
    },
    {
     "data": {
      "image/png": "[encoded data removed]",
      "text/plain": [
       "<Figure size 432x288 with 1 Axes>"
      ]
     },
     "metadata": {
      "needs_background": "light"
     },
     "output_type": "display_data"
    }
   ],
   "source": [
    "# Set z to our input Median Household Income\n",
    "z = data_merge2['Household Income']\n",
    "# Set y to our output New York housing price index, this is the value we trying to predict\n",
    "#y = data_merge2['NYSTHPI'] is equal to the y in the previous regression\n",
    "# Plot New York Housing price index against New York population\n",
    "plt.scatter(z, y)\n",
    "# Add labels to the graph\n",
    "plt.xlabel('New York Household Income')\n",
    "plt.ylabel('New York Housing Price Index')"
   ]
  },
  {
   "cell_type": "code",
   "execution_count": 32,
   "metadata": {},
   "outputs": [
    {
     "data": {
      "text/plain": [
       "[<matplotlib.lines.Line2D at 0x7f1173323358>]"
      ]
     },
     "execution_count": 32,
     "metadata": {},
     "output_type": "execute_result"
    },
    {
     "data": {
      "image/png": "[encoded data removed]",
      "text/plain": [
       "<Figure size 432x288 with 1 Axes>"
      ]
     },
     "metadata": {
      "needs_background": "light"
     },
     "output_type": "display_data"
    }
   ],
   "source": [
    "# Setting x and y to the appropriate variables, we reshape x to turn it from a 1D array to a 2D array, ready to be used in our model.\n",
    "a = data_merge2['Household Income'].values.reshape(-1,1)\n",
    "#y = data_merge['NYSTHPI']\n",
    "# Define the variable lr_model as our linear regression model\n",
    "lr_model = LinearRegression()\n",
    "# Fit our linear regression model to our data, we are essentially finding θ₀ and θ₁ in our regression line: ŷ = θ₀ + θ₁𝑥. Gradient descent and other methods are used for this.\n",
    "lr2=lr_model.fit(a, y)\n",
    "# Find predicted values for all x values by applying ŷᵢ = θ₀ + θ₁𝑥ᵢ\n",
    "y_pred = lr_model.predict(a)\n",
    "plt.scatter(a, y)\n",
    "plt.xlabel('New York Household Income')\n",
    "plt.ylabel('New York Housing price Index')\n",
    "# Here we are plotting our regression line ŷ = θ₀ + θ₁𝑥\n",
    "plt.plot(a, y_pred)"
   ]
  },
  {
   "cell_type": "code",
   "execution_count": 33,
   "metadata": {},
   "outputs": [
    {
     "data": {
      "text/plain": [
       "(0.025371167669602512,\n",
       " -1075.1924946065044,\n",
       " 0.005478712901058603,\n",
       " 4.8666889336969584e-05)"
      ]
     },
     "execution_count": 33,
     "metadata": {},
     "output_type": "execute_result"
    }
   ],
   "source": [
    "gradient, intercept, r_value, p_value, std_err = linregress(data_merge2['Household Income'], data_merge2['NYSTHPI'])\n",
    "gradient, intercept, std_err, p_value"
   ]
  },
  {
   "cell_type": "markdown",
   "metadata": {},
   "source": [
    "Regression part 3\n",
    "Regression of New York Housing Price Index on New York household Index and New York population rate."
   ]
  },
  {
   "cell_type": "code",
   "execution_count": 35,
   "metadata": {},
   "outputs": [
    {
     "data": {
      "text/plain": [
       "statsmodels.regression.linear_model.OLS"
      ]
     },
     "execution_count": 35,
     "metadata": {},
     "output_type": "execute_result"
    }
   ],
   "source": [
    "data_merge2['const'] = 1\n",
    "ols1 = sm.OLS(endog=data_merge2['NYSTHPI'], exog=data_merge2[['const', 'NYPOP','Household Income']], \\\n",
    "    missing='drop')\n",
    "type(ols1)"
   ]
  },
  {
   "cell_type": "code",
   "execution_count": 36,
   "metadata": {},
   "outputs": [
    {
     "data": {
      "text/plain": [
       "statsmodels.regression.linear_model.RegressionResultsWrapper"
      ]
     },
     "execution_count": 36,
     "metadata": {},
     "output_type": "execute_result"
    }
   ],
   "source": [
    "results = ols1.fit()\n",
    "type(results)"
   ]
  },
  {
   "cell_type": "code",
   "execution_count": 37,
   "metadata": {},
   "outputs": [
    {
     "name": "stdout",
     "output_type": "stream",
     "text": [
      "                            OLS Regression Results                            \n",
      "==============================================================================\n",
      "Dep. Variable:                NYSTHPI   R-squared:                       0.836\n",
      "Model:                            OLS   Adj. R-squared:                  0.827\n",
      "Method:                 Least Squares   F-statistic:                     86.93\n",
      "Date:                Sun, 06 Dec 2020   Prob (F-statistic):           4.30e-14\n",
      "Time:                        07:16:02   Log-Likelihood:                -209.02\n",
      "No. Observations:                  37   AIC:                             424.0\n",
      "Df Residuals:                      34   BIC:                             428.9\n",
      "Df Model:                           2                                         \n",
      "Covariance Type:            nonrobust                                         \n",
      "====================================================================================\n",
      "                       coef    std err          t      P>|t|      [0.025      0.975]\n",
      "------------------------------------------------------------------------------------\n",
      "const            -3790.2278    326.640    -11.604      0.000   -4454.039   -3126.416\n",
      "NYPOP                0.1914      0.020      9.741      0.000       0.151       0.231\n",
      "Household Income     0.0107      0.003      3.297      0.002       0.004       0.017\n",
      "==============================================================================\n",
      "Omnibus:                        9.782   Durbin-Watson:                   0.561\n",
      "Prob(Omnibus):                  0.008   Jarque-Bera (JB):               12.102\n",
      "Skew:                           0.696   Prob(JB):                      0.00236\n",
      "Kurtosis:                       5.431   Cond. No.                     1.73e+06\n",
      "==============================================================================\n",
      "\n",
      "Notes:\n",
      "[1] Standard Errors assume that the covariance matrix of the errors is correctly specified.\n",
      "[2] The condition number is large, 1.73e+06. This might indicate that there are\n",
      "strong multicollinearity or other numerical problems.\n"
     ]
    }
   ],
   "source": [
    "print(results.summary())"
   ]
  },
  {
   "cell_type": "code",
   "execution_count": null,
   "metadata": {},
   "outputs": [],
   "source": []
  }
 ],
 "metadata": {
  "kernelspec": {
   "display_name": "Python 3",
   "language": "python",
   "name": "python3"
  },
  "language_info": {
   "codemirror_mode": {
    "name": "ipython",
    "version": 3
   },
   "file_extension": ".py",
   "mimetype": "text/x-python",
   "name": "python",
   "nbconvert_exporter": "python",
   "pygments_lexer": "ipython3",
   "version": "3.6.11"
  }
 },
 "nbformat": 4,
 "nbformat_minor": 4
}
