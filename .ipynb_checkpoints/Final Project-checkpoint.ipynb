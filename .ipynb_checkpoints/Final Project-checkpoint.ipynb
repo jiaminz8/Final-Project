{
 "cells": [
  {
   "cell_type": "markdown",
   "metadata": {},
   "source": [
    "                                                   Final Project\n",
    "Project Overview\n",
    "The purpose of this project is..."
   ]
  },
  {
   "cell_type": "markdown",
   "metadata": {},
   "source": [
    "Group 4 Project \n",
    "Jiaming Zhu(71345111); \n",
    "Jingwen Ni(63745156); \n",
    "Sara Shen(61832733);\n",
    "\n",
    "●\tKey Variable: Housing price\n",
    "●\tIndependent Variables: Average Income; Population Density. \n",
    "\n",
    "●\tPurpose: why is the housing so unaffordable in the metropolis? (New York)\n",
    "●\tThe reason why we are interested in this topic: Due to the global pandemic, housing supplies nationwide were being influenced a lot. The pandemic-induced drop only exacerbated that. There are a lot of people who live in New York, and, as we are known, the housing supply in New York City is low, thereby the market tends to favor homesellers over homebuyers. New Yorkers have relatively fewer choices when supply is low, especially during this pandemic. This situation reveals that more people are looking for fewer houses, which drives prices higher. \n",
    "\n",
    "●\tBackground: Based on the data from New York City Real Estate Market Overview 2020, “The median list price of homes in New York, NY was $799K in August 2020… The median listing price per square foot was $562. The median sale price was $665K. On average, homes in New York, NY sell after 182 days on the market.” The price in New York is sufficiently higher than other countries. Therefore, in our paper, we want to discuss the relationship between housing price, average income, and population density. \n",
    "\n",
    "●\tResult: High housing prices may result in outflowing of talent. Also people who work and study in NewYork have to live in other cities like NJ or Long Island which will cost them a lot of time in commuting every day. What’s more, people will be evicted if they lose their job suddenly which will cause heavy mental pressure. People would be unsatisfied and thus decrease social stability. \n",
    "\n",
    "●\tHypothesis: New York’s housing price is influenced by average income and population density.\n",
    "\n",
    "●\tPotential Relation: Housing Price has a positive relation with the Average income and the population density.\n",
    "\n",
    "\n",
    "\n"
   ]
  }
 ],
 "metadata": {
  "kernelspec": {
   "display_name": "Python 3",
   "language": "python",
   "name": "python3"
  },
  "language_info": {
   "codemirror_mode": {
    "name": "ipython",
    "version": 3
   },
   "file_extension": ".py",
   "mimetype": "text/x-python",
   "name": "python",
   "nbconvert_exporter": "python",
   "pygments_lexer": "ipython3",
   "version": "3.8.3"
  }
 },
 "nbformat": 4,
 "nbformat_minor": 4
}
